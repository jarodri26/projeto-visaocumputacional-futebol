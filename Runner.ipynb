{
 "cells": [
  {
   "cell_type": "markdown",
   "metadata": {
    "application/vnd.databricks.v1+cell": {
     "cellMetadata": {
      "byteLimit": 2048000,
      "rowLimit": 10000
     },
     "inputWidgets": {},
     "nuid": "3a323ec2-5886-42b6-a160-aee32b020b94",
     "showTitle": false,
     "tableResultSettingsMap": {},
     "title": ""
    }
   },
   "source": [
    "# 01 - Ingestão\n",
    "\n",
    "Verifica a presença do vídeo no DBFS."
   ]
  },
  {
   "cell_type": "code",
   "execution_count": 0,
   "metadata": {
    "application/vnd.databricks.v1+cell": {
     "cellMetadata": {
      "byteLimit": 2048000,
      "rowLimit": 10000
     },
     "inputWidgets": {},
     "nuid": "f115ef67-c7ea-4174-b35a-20db95ea008e",
     "showTitle": false,
     "tableResultSettingsMap": {},
     "title": ""
    }
   },
   "outputs": [],
   "source": [
    "import os\n",
    "# Install dependencies in the notebook environment (optional - uncomment if running in fresh environment)\n",
    "# !python -m pip install -r requirements.txt\n",
    "\n",
    "from src.config import load_config\n",
    "cfg = load_config()\n",
    "video_dbfs = cfg.get('video_path')\n",
    "print('Existe?', os.path.exists(video_dbfs) if video_dbfs else False)\n",
    "print('Se não existir, faça upload manual do vídeo para /FileStore/videos/ ou atualize configs/config.yaml')\n"
   ]
  },
  {
   "cell_type": "code",
   "execution_count": null,
   "metadata": {},
   "outputs": [],
   "source": [
    "# Opcional: Gera pseudo-rótulos automaticamente antes do pré-processamento\n",
    "import os\n",
    "import sys\n",
    "from src.config import load_config\n",
    "cfg = load_config()\n",
    "video = cfg.get('video_path')\n",
    "frames_dir = cfg.get('frames_dir')\n",
    "ann_path = os.path.join(frames_dir, 'annotations.json')\n",
    "\n",
    "if not video or not frames_dir:\n",
    "    print('Configuração incompleta: verifique video_path e frames_dir em configs/config.yaml')\n",
    "else:\n",
    "    # garantir que o diretório de scripts esteja no path\n",
    "    sys.path.append(os.path.abspath('.'))\n",
    "    try:\n",
    "        from scripts.pseudo_label import pseudo_label\n",
    "    except Exception as e:\n",
    "        print('Não foi possível importar pseudo_label:', e)\n",
    "        raise\n",
    "\n",
    "    # se quiser pular o passo, defina SKIP_PSEUDO=1 no ambiente\n",
    "    if os.environ.get('SKIP_PSEUDO') == '1':\n",
    "        print('Pseudo-labeling pulado via SKIP_PSEUDO=1')\n",
    "    else:\n",
    "        print('Iniciando pseudo-labeling — pode demorar dependendo do modelo/video...')\n",
    "        # Force DeepSORT usage; set use_deepsort=False to force fallback\n",
    "        pseudo_label(video, frames_dir, ann_path, sample_rate=cfg.get('sample_rate', 2))\n",
    "        print('Pseudo-labeling finalizado. Anotações:', ann_path)\n",
    "\n",
    "        # Mostrar alguns frames anotados inline (se rodando em notebook)\n",
    "        try:\n",
    "            from IPython.display import display, Image\n",
    "            annotated_dir = os.path.join(frames_dir, 'annotated')\n",
    "            imgs = sorted([os.path.join(annotated_dir, f) for f in os.listdir(annotated_dir) if f.endswith('.jpg')])[:5]\n",
    "            for p in imgs:\n",
    "                display(Image(filename=p))\n",
    "        except Exception:\n",
    "            pass\n"
   ]
  },
  {
   "cell_type": "markdown",
   "metadata": {
    "application/vnd.databricks.v1+cell": {
     "cellMetadata": {
      "byteLimit": 2048000,
      "rowLimit": 10000
     },
     "inputWidgets": {},
     "nuid": "c9df4491-99bb-4d65-8414-46c58e5a0384",
     "showTitle": false,
     "tableResultSettingsMap": {},
     "title": ""
    }
   },
   "source": [
    "# 02 - Pré-processamento\n",
    "\n",
    "Extrai frames e salva em `/dbfs/FileStore/frames/`."
   ]
  },
  {
   "cell_type": "code",
   "execution_count": 0,
   "metadata": {
    "application/vnd.databricks.v1+cell": {
     "cellMetadata": {
      "byteLimit": 2048000,
      "rowLimit": 10000
     },
     "inputWidgets": {},
     "nuid": "2ba457c4-cd1b-41ab-8438-e54b0544e700",
     "showTitle": false,
     "tableResultSettingsMap": {},
     "title": ""
    }
   },
   "outputs": [],
   "source": [
    "from src.data.extract_frames import extract_frames\n",
    "from src.config import load_config\n",
    "import os\n",
    "cfg = load_config()\n",
    "VIDEO = cfg.get('video_path')\n",
    "OUT_DIR = cfg.get('frames_dir')\n",
    "os.makedirs(OUT_DIR, exist_ok=True)\n",
    "n = extract_frames(VIDEO, OUT_DIR, sample_rate=cfg.get('sample_rate', 2))\n",
    "print('Frames extraídos:', n)\n"
   ]
  },
  {
   "cell_type": "markdown",
   "metadata": {
    "application/vnd.databricks.v1+cell": {
     "cellMetadata": {
      "byteLimit": 2048000,
      "rowLimit": 10000
     },
     "inputWidgets": {},
     "nuid": "d0117a41-1263-46a8-ac25-04607f0c9db9",
     "showTitle": false,
     "tableResultSettingsMap": {},
     "title": ""
    }
   },
   "source": [
    "# 03 - Treino\n",
    "\n",
    "Treina um modelo simples com imagens extraídas."
   ]
  },
  {
   "cell_type": "code",
   "execution_count": 0,
   "metadata": {
    "application/vnd.databricks.v1+cell": {
     "cellMetadata": {
      "byteLimit": 2048000,
      "rowLimit": 10000
     },
     "inputWidgets": {},
     "nuid": "880f3276-5c11-43f9-a950-fab8a7381583",
     "showTitle": false,
     "tableResultSettingsMap": {},
     "title": ""
    }
   },
   "outputs": [],
   "source": [
    "from src.models.train import train_from_folder\n",
    "from src.config import load_config\n",
    "import os\n",
    "\n",
    "cfg = load_config()\n",
    "DATA_DIR = cfg.get('frames_dir')\n",
    "MODEL_DIR = cfg.get('model_dir')\n",
    "os.makedirs(MODEL_DIR, exist_ok=True)\n",
    "train_from_folder(DATA_DIR, MODEL_DIR, epochs=1)"
   ]
  },
  {
   "cell_type": "markdown",
   "metadata": {
    "application/vnd.databricks.v1+cell": {
     "cellMetadata": {
      "byteLimit": 2048000,
      "rowLimit": 10000
     },
     "inputWidgets": {},
     "nuid": "321aeddc-de83-4fa4-94f3-8f4f8d27332a",
     "showTitle": false,
     "tableResultSettingsMap": {},
     "title": ""
    }
   },
   "source": [
    "# 04 - Avaliação\n",
    "\n",
    "Avalia o modelo salvo (exemplo rápido)."
   ]
  },
  {
   "cell_type": "code",
   "execution_count": 0,
   "metadata": {
    "application/vnd.databricks.v1+cell": {
     "cellMetadata": {
      "byteLimit": 2048000,
      "rowLimit": 10000
     },
     "inputWidgets": {},
     "nuid": "8b677cd5-35b0-400b-90e6-f52ca64b2db4",
     "showTitle": false,
     "tableResultSettingsMap": {},
     "title": ""
    }
   },
   "outputs": [],
   "source": [
    "from src.models.train import evaluate_folder\n",
    "from src.config import load_config\n",
    "cfg = load_config()\n",
    "MODEL_DIR = cfg.get('model_dir')\n",
    "DATA_DIR = cfg.get('frames_dir')\n",
    "evaluate_folder(MODEL_DIR, DATA_DIR)\n"
   ]
  },
  {
   "cell_type": "markdown",
   "metadata": {
    "application/vnd.databricks.v1+cell": {
     "cellMetadata": {
      "byteLimit": 2048000,
      "rowLimit": 10000
     },
     "inputWidgets": {},
     "nuid": "f5b82fd6-c871-462c-8a9f-5b46d809d983",
     "showTitle": false,
     "tableResultSettingsMap": {},
     "title": ""
    }
   },
   "source": [
    "# 05 - Serving\n",
    "\n",
    "Exemplo de inferência local usando o modelo salvo."
   ]
  },
  {
   "cell_type": "code",
   "execution_count": 0,
   "metadata": {
    "application/vnd.databricks.v1+cell": {
     "cellMetadata": {
      "byteLimit": 2048000,
      "rowLimit": 10000
     },
     "inputWidgets": {},
     "nuid": "d1bc48e3-46e5-4d5f-9888-990adaacd096",
     "showTitle": false,
     "tableResultSettingsMap": {},
     "title": ""
    }
   },
   "outputs": [],
   "source": [
    "from src.serving.serve_inference import infer_image\n",
    "from src.config import load_config\n",
    "import os\n",
    "cfg = load_config()\n",
    "MODEL_PATH = os.path.join(cfg.get('model_dir',''), 'model.pth')\n",
    "TEST_IMAGE = os.path.join(cfg.get('frames_dir',''), 'frame_00000.jpg')\n",
    "print(infer_image(MODEL_PATH, TEST_IMAGE))\n"
   ]
  }
 ],
 "metadata": {
  "application/vnd.databricks.v1+notebook": {
   "computePreferences": {
    "hardware": {
     "accelerator": null,
     "gpuPoolId": null,
     "memory": null
    }
   },
   "dashboards": [],
   "environmentMetadata": {
    "base_environment": "",
    "environment_version": "3"
   },
   "inputWidgetPreferences": null,
   "language": "python",
   "notebookMetadata": {
    "pythonIndentUnit": 4
   },
   "notebookName": "Runner",
   "widgets": {}
  },
  "kernelspec": {
   "display_name": "Python 3",
   "name": "python3"
  },
  "language_info": {
   "name": "python"
  }
 },
 "nbformat": 4,
 "nbformat_minor": 0
}
